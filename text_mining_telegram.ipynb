{
  "nbformat": 4,
  "nbformat_minor": 0,
  "metadata": {
    "accelerator": "GPU",
    "colab": {
      "name": "text_mining_telegram",
      "provenance": [],
      "collapsed_sections": []
    },
    "kernelspec": {
      "display_name": "Python 3",
      "name": "python3"
    }
  },
  "cells": [
    {
      "cell_type": "markdown",
      "metadata": {
        "id": "PPPyA954uzGm"
      },
      "source": [
        "Data Pre-processing"
      ]
    },
    {
      "cell_type": "code",
      "metadata": {
        "id": "k4WWvXf70713",
        "colab": {
          "base_uri": "https://localhost:8080/"
        },
        "outputId": "be70d8c6-043f-48c9-c957-0442bbe8c4bb"
      },
      "source": [
        "#Installing package to process emojis\n",
        "!pip install emoji"
      ],
      "execution_count": null,
      "outputs": [
        {
          "output_type": "stream",
          "text": [
            "Collecting emoji\n",
            "\u001b[?25l  Downloading https://files.pythonhosted.org/packages/ff/1c/1f1457fe52d0b30cbeebfd578483cedb3e3619108d2d5a21380dfecf8ffd/emoji-0.6.0.tar.gz (51kB)\n",
            "\r\u001b[K     |██████▍                         | 10kB 19.7MB/s eta 0:00:01\r\u001b[K     |████████████▉                   | 20kB 26.0MB/s eta 0:00:01\r\u001b[K     |███████████████████▎            | 30kB 27.2MB/s eta 0:00:01\r\u001b[K     |█████████████████████████▊      | 40kB 20.6MB/s eta 0:00:01\r\u001b[K     |████████████████████████████████| 51kB 5.8MB/s \n",
            "\u001b[?25hBuilding wheels for collected packages: emoji\n",
            "  Building wheel for emoji (setup.py) ... \u001b[?25l\u001b[?25hdone\n",
            "  Created wheel for emoji: filename=emoji-0.6.0-cp36-none-any.whl size=49716 sha256=ce64b3b3bf8bcd086e02bf094744325236de80190fc49a4cd9804efccd911cf1\n",
            "  Stored in directory: /root/.cache/pip/wheels/46/2c/8b/9dcf5216ca68e14e0320e283692dce8ae321cdc01e73e17796\n",
            "Successfully built emoji\n",
            "Installing collected packages: emoji\n",
            "Successfully installed emoji-0.6.0\n"
          ],
          "name": "stdout"
        }
      ]
    },
    {
      "cell_type": "code",
      "metadata": {
        "id": "hGEi5wRR3G2s",
        "colab": {
          "base_uri": "https://localhost:8080/"
        },
        "outputId": "aed3f6b5-d2cf-49e4-96ad-e953f1a90df6"
      },
      "source": [
        "#Installing package to process multiple text mining tasks including sentiment analysis\n",
        "!pip install TextBlob"
      ],
      "execution_count": null,
      "outputs": [
        {
          "output_type": "stream",
          "text": [
            "Requirement already satisfied: TextBlob in /usr/local/lib/python3.6/dist-packages (0.15.3)\n",
            "Requirement already satisfied: nltk>=3.1 in /usr/local/lib/python3.6/dist-packages (from TextBlob) (3.2.5)\n",
            "Requirement already satisfied: six in /usr/local/lib/python3.6/dist-packages (from nltk>=3.1->TextBlob) (1.15.0)\n"
          ],
          "name": "stdout"
        }
      ]
    },
    {
      "cell_type": "code",
      "metadata": {
        "id": "IdCxfFX0PnQg",
        "colab": {
          "base_uri": "https://localhost:8080/"
        },
        "outputId": "e99ec405-07a5-49e2-d315-41c12af3cbbf"
      },
      "source": [
        "#Import libraries\n",
        "import json\n",
        "import pandas as pd  \n",
        "from pandas.io.json import json_normalize\n",
        "import pandas as pd\n",
        "import numpy as np\n",
        "import nltk\n",
        "import string\n",
        "from nltk.tokenize import word_tokenize\n",
        "from nltk.corpus import stopwords, wordnet\n",
        "from nltk.stem import WordNetLemmatizer\n",
        "pd.options.mode.chained_assignment = None\n",
        "pd.set_option('display.max_colwidth', 100)\n",
        "%matplotlib inline\n",
        "from matplotlib import pyplot as plt\n",
        "from bs4 import BeautifulSoup\n",
        "import string\n",
        "from nltk.tokenize import RegexpTokenizer\n",
        "from nltk.stem import WordNetLemmatizer\n",
        "from nltk.stem.porter import PorterStemmer\n",
        "import datetime\n",
        "import nltk\n",
        "nltk.download('punkt')"
      ],
      "execution_count": null,
      "outputs": [
        {
          "output_type": "stream",
          "text": [
            "[nltk_data] Downloading package punkt to /root/nltk_data...\n",
            "[nltk_data]   Unzipping tokenizers/punkt.zip.\n"
          ],
          "name": "stdout"
        },
        {
          "output_type": "execute_result",
          "data": {
            "text/plain": [
              "True"
            ]
          },
          "metadata": {
            "tags": []
          },
          "execution_count": 3
        }
      ]
    },
    {
      "cell_type": "code",
      "metadata": {
        "id": "OeuhRunbw7aN"
      },
      "source": [
        "#Increasing column width for readability of messages\n",
        "pd.options.display.max_colwidth = 1000"
      ],
      "execution_count": null,
      "outputs": []
    },
    {
      "cell_type": "code",
      "metadata": {
        "id": "YRnSVoQKa8hU"
      },
      "source": [
        "#Import telegram channels data lying in json format\n",
        "df_crypto_vigil = pd.read_json('result_crypto_vigil.json')\n",
        "df_defi = pd.read_json('result_defi.json')\n",
        "df_dao = pd.read_json('result_dao.json')\n",
        "df_lobs = pd.read_json('result_lobs.json')\n",
        "df_crypto_brief = pd.read_json('result_crypto_brief.json')\n",
        "df_crypto_wolf = pd.read_json('result_crypto_wolf.json')\n",
        "df_crypto_differ = pd.read_json('result_crypto_differ.json')\n",
        "df_crypto_daku = pd.read_json('result_crypto_daku.json')"
      ],
      "execution_count": null,
      "outputs": []
    },
    {
      "cell_type": "code",
      "metadata": {
        "id": "3GvYkyTEy44J"
      },
      "source": [
        "#Merging all the channels data\n",
        "df = pd.concat([df_crypto_vigil,df_defi,df_dao,df_lobs,df_crypto_brief,df_crypto_wolf,df_crypto_differ,df_crypto_daku], ignore_index=True)\n"
      ],
      "execution_count": null,
      "outputs": []
    },
    {
      "cell_type": "code",
      "metadata": {
        "id": "P4Axe6YEK8XQ",
        "colab": {
          "base_uri": "https://localhost:8080/"
        },
        "outputId": "369ef3db-399e-4cca-852b-489704f7e050"
      },
      "source": [
        "#Subsetting required columns\n",
        "df1 = pd.json_normalize(df['messages']) \n",
        "df3 = df1[['id','date','from','text']]\n",
        "df3.shape"
      ],
      "execution_count": null,
      "outputs": [
        {
          "output_type": "execute_result",
          "data": {
            "text/plain": [
              "(596767, 4)"
            ]
          },
          "metadata": {
            "tags": []
          },
          "execution_count": 7
        }
      ]
    },
    {
      "cell_type": "code",
      "metadata": {
        "id": "Gc2_ZyGlBEYI"
      },
      "source": [
        "#Extracting decentralized related messages\n",
        "#df3 = df2[df2['text'].str.contains(\"decentralization\")|df2['text'].str.contains(\"decentralize\")|df2['text'].str.contains(\"decentralized\")]"
      ],
      "execution_count": null,
      "outputs": []
    },
    {
      "cell_type": "code",
      "metadata": {
        "id": "i6ybIT9TKI-t"
      },
      "source": [
        "#Creating date variables for filtering data for analysis\n",
        "df3['date'] = pd.to_datetime(df3['date'], errors='coerce')\n",
        "df3['mnth_yr'] = df3['date'].apply(lambda x: x.strftime('%B-%Y')) \n",
        "df3['month'] = df3['date'].dt.month\n",
        "df3['quarter'] = df3['date'].dt.quarter\n",
        "df3['year'] = df3['date'].dt.year\n",
        "df3[\"period\"] = df3[\"year\"].astype(str) + '-' + df3[\"quarter\"].astype(str)"
      ],
      "execution_count": null,
      "outputs": []
    },
    {
      "cell_type": "code",
      "metadata": {
        "id": "0_xb-syexf92",
        "colab": {
          "base_uri": "https://localhost:8080/"
        },
        "outputId": "0113e175-8263-4cab-8416-c1ac0a4d03e5"
      },
      "source": [
        "#Message frequency by senders\n",
        "count_sender = df3['from'].value_counts()\n",
        "count_sender.to_csv(\"sender.csv\")\n",
        "count_sender.head()"
      ],
      "execution_count": null,
      "outputs": [
        {
          "output_type": "execute_result",
          "data": {
            "text/plain": [
              "ivangbi 👾                                                                                                              27500\n",
              "Short Shark                                                                                                            17559\n",
              "@CryptoVigilante                                                                                                       13828\n",
              "☣️ᙢΘℝ฿𝕚ĐỬᏕ☣️ | CMC ne'er do well | Scio Me Nihil Scire | Longname Enthusiast | TG Revolutionary | FUD Televangelist    11491\n",
              "Reaper .                                                                                                                9942\n",
              "Name: from, dtype: int64"
            ]
          },
          "metadata": {
            "tags": []
          },
          "execution_count": 9
        }
      ]
    },
    {
      "cell_type": "code",
      "metadata": {
        "id": "2j_PeZfYGsQ_",
        "colab": {
          "base_uri": "https://localhost:8080/"
        },
        "outputId": "46957288-f2d4-444e-8700-a44a4b61ed0b"
      },
      "source": [
        "#Message frequency by month and year\n",
        "mnth_yr = df3['mnth_yr'].value_counts()\n",
        "mnth_yr.to_csv(\"mnth_yr.csv\")\n",
        "mnth_yr.head()"
      ],
      "execution_count": null,
      "outputs": [
        {
          "output_type": "execute_result",
          "data": {
            "text/plain": [
              "August-2020       69871\n",
              "September-2020    66033\n",
              "October-2020      48970\n",
              "July-2020         48196\n",
              "March-2020        34790\n",
              "Name: mnth_yr, dtype: int64"
            ]
          },
          "metadata": {
            "tags": []
          },
          "execution_count": 10
        }
      ]
    },
    {
      "cell_type": "code",
      "metadata": {
        "id": "FZRWwm6HV97p",
        "colab": {
          "base_uri": "https://localhost:8080/"
        },
        "outputId": "ee5c6df9-21bd-42c5-dc21-9bdbec5e6242"
      },
      "source": [
        "#Message frequency by year\n",
        "year = df3['year'].value_counts()\n",
        "year.to_csv(\"year.csv\")\n",
        "year.head()"
      ],
      "execution_count": null,
      "outputs": [
        {
          "output_type": "execute_result",
          "data": {
            "text/plain": [
              "2020    415734\n",
              "2019    145696\n",
              "2018     34008\n",
              "2017      1329\n",
              "Name: year, dtype: int64"
            ]
          },
          "metadata": {
            "tags": []
          },
          "execution_count": 11
        }
      ]
    },
    {
      "cell_type": "code",
      "metadata": {
        "id": "EPu4dGP3WK1E",
        "colab": {
          "base_uri": "https://localhost:8080/"
        },
        "outputId": "13cbff9a-2d99-46f4-ca9c-761120979e8b"
      },
      "source": [
        "#Message frequency by year an quarter\n",
        "period = df3['period'].value_counts()\n",
        "period.to_csv(\"period.csv\")\n",
        "period.head()"
      ],
      "execution_count": null,
      "outputs": [
        {
          "output_type": "execute_result",
          "data": {
            "text/plain": [
              "2020-3    184100\n",
              "2020-1     92682\n",
              "2020-2     89982\n",
              "2019-4     58582\n",
              "2019-3     51361\n",
              "Name: period, dtype: int64"
            ]
          },
          "metadata": {
            "tags": []
          },
          "execution_count": 12
        }
      ]
    },
    {
      "cell_type": "code",
      "metadata": {
        "id": "oJrXbJpq7V8P",
        "colab": {
          "base_uri": "https://localhost:8080/"
        },
        "outputId": "3d58bbfc-76df-45cb-efda-fb8c2ae69781"
      },
      "source": [
        "#Reading some random messages\n",
        "for index,text in enumerate(df3['text'][35:40]):\n",
        "  print('Message %d:\\n'%(index+1),text)"
      ],
      "execution_count": null,
      "outputs": [
        {
          "output_type": "stream",
          "text": [
            "Message 1:\n",
            " BTT dropped so hard\n",
            "Message 2:\n",
            " Yo\n",
            "Message 3:\n",
            " As it should..\n",
            "Message 4:\n",
            " We sending scum to jail here or discussing price action? 🤪\n",
            "Message 5:\n",
            " Both\n"
          ],
          "name": "stdout"
        }
      ]
    },
    {
      "cell_type": "markdown",
      "metadata": {
        "id": "9kElgTj_zEqM"
      },
      "source": [
        "Data Cleaning"
      ]
    },
    {
      "cell_type": "code",
      "metadata": {
        "id": "Z5V9Wxl5jWpJ",
        "colab": {
          "base_uri": "https://localhost:8080/",
          "height": 578
        },
        "outputId": "1b1d5f4d-645c-4250-f83f-b73418a36519"
      },
      "source": [
        "#Removing URLs\n",
        "import re\n",
        "df3['cleaned']=df3['text'].astype(str).apply(lambda x: re.sub(r'http\\S+', '', x))\n",
        "df3.head()"
      ],
      "execution_count": null,
      "outputs": [
        {
          "output_type": "execute_result",
          "data": {
            "text/html": [
              "<div>\n",
              "<style scoped>\n",
              "    .dataframe tbody tr th:only-of-type {\n",
              "        vertical-align: middle;\n",
              "    }\n",
              "\n",
              "    .dataframe tbody tr th {\n",
              "        vertical-align: top;\n",
              "    }\n",
              "\n",
              "    .dataframe thead th {\n",
              "        text-align: right;\n",
              "    }\n",
              "</style>\n",
              "<table border=\"1\" class=\"dataframe\">\n",
              "  <thead>\n",
              "    <tr style=\"text-align: right;\">\n",
              "      <th></th>\n",
              "      <th>id</th>\n",
              "      <th>date</th>\n",
              "      <th>from</th>\n",
              "      <th>text</th>\n",
              "      <th>mnth_yr</th>\n",
              "      <th>month</th>\n",
              "      <th>quarter</th>\n",
              "      <th>year</th>\n",
              "      <th>period</th>\n",
              "      <th>cleaned</th>\n",
              "    </tr>\n",
              "  </thead>\n",
              "  <tbody>\n",
              "    <tr>\n",
              "      <th>0</th>\n",
              "      <td>1</td>\n",
              "      <td>2019-04-04 07:32:16</td>\n",
              "      <td>NaN</td>\n",
              "      <td></td>\n",
              "      <td>April-2019</td>\n",
              "      <td>4</td>\n",
              "      <td>2</td>\n",
              "      <td>2019</td>\n",
              "      <td>2019-2</td>\n",
              "      <td></td>\n",
              "    </tr>\n",
              "    <tr>\n",
              "      <th>1</th>\n",
              "      <td>2</td>\n",
              "      <td>2019-04-04 07:34:42</td>\n",
              "      <td>NaN</td>\n",
              "      <td></td>\n",
              "      <td>April-2019</td>\n",
              "      <td>4</td>\n",
              "      <td>2</td>\n",
              "      <td>2019</td>\n",
              "      <td>2019-2</td>\n",
              "      <td></td>\n",
              "    </tr>\n",
              "    <tr>\n",
              "      <th>2</th>\n",
              "      <td>4</td>\n",
              "      <td>2019-04-05 08:50:34</td>\n",
              "      <td>@CryptoVigilante</td>\n",
              "      <td>[🕵 Welcome to the Crypto Vigilante Network chat.\\n\\n🏴 Here you can discuss crypto analysis, educational articles, scams, and shillers.\\n\\n✴ Follow the main channel , {'type': 'mention', 'text': '@CryptoVigilante'}, \\n\\n, {'type': 'link', 'text': 'https://medium.com/@CryptoVigilanteNetwork'}, ]</td>\n",
              "      <td>April-2019</td>\n",
              "      <td>4</td>\n",
              "      <td>2</td>\n",
              "      <td>2019</td>\n",
              "      <td>2019-2</td>\n",
              "      <td>['🕵 Welcome to the Crypto Vigilante Network chat.\\n\\n🏴 Here you can discuss crypto analysis, educational articles, scams, and shillers.\\n\\n✴ Follow the main channel ', {'type': 'mention', 'text': '@CryptoVigilante'}, '\\n\\n', {'type': 'link', 'text': ' '']</td>\n",
              "    </tr>\n",
              "    <tr>\n",
              "      <th>3</th>\n",
              "      <td>5</td>\n",
              "      <td>2019-04-05 08:57:12</td>\n",
              "      <td>NaN</td>\n",
              "      <td></td>\n",
              "      <td>April-2019</td>\n",
              "      <td>4</td>\n",
              "      <td>2</td>\n",
              "      <td>2019</td>\n",
              "      <td>2019-2</td>\n",
              "      <td></td>\n",
              "    </tr>\n",
              "    <tr>\n",
              "      <th>4</th>\n",
              "      <td>6</td>\n",
              "      <td>2019-04-05 08:59:49</td>\n",
              "      <td>NaN</td>\n",
              "      <td></td>\n",
              "      <td>April-2019</td>\n",
              "      <td>4</td>\n",
              "      <td>2</td>\n",
              "      <td>2019</td>\n",
              "      <td>2019-2</td>\n",
              "      <td></td>\n",
              "    </tr>\n",
              "  </tbody>\n",
              "</table>\n",
              "</div>"
            ],
            "text/plain": [
              "   id  ...                                                                                                                                                                                                                                                          cleaned\n",
              "0   1  ...                                                                                                                                                                                                                                                                 \n",
              "1   2  ...                                                                                                                                                                                                                                                                 \n",
              "2   4  ...  ['🕵 Welcome to the Crypto Vigilante Network chat.\\n\\n🏴 Here you can discuss crypto analysis, educational articles, scams, and shillers.\\n\\n✴ Follow the main channel ', {'type': 'mention', 'text': '@CryptoVigilante'}, '\\n\\n', {'type': 'link', 'text': ' '']\n",
              "3   5  ...                                                                                                                                                                                                                                                                 \n",
              "4   6  ...                                                                                                                                                                                                                                                                 \n",
              "\n",
              "[5 rows x 10 columns]"
            ]
          },
          "metadata": {
            "tags": []
          },
          "execution_count": 15
        }
      ]
    },
    {
      "cell_type": "code",
      "metadata": {
        "id": "Yu7tqNlb72KZ"
      },
      "source": [
        "# Dictionary of English Contractions\n",
        "contractions_dict = { \"ain't\": \"are not\",\"aren't\": \"are not\",\"let’s\":\"let us\",\n",
        "                     \"can't\": \"cannot\",\"can't've\": \"cannot have\",\n",
        "                     \"'cause\": \"because\",\"could've\": \"could have\",\"couldn't\": \"could not\",\n",
        "                     \"couldn't've\": \"could not have\", \"didn't\": \"did not\",\"doesn't\": \"does not\",\n",
        "                     \"don't\": \"do not\",\"hadn't\": \"had not\",\"hadn't've\": \"had not have\",\n",
        "                     \"hasn't\": \"has not\",\"haven't\": \"have not\",\"he'd\": \"he would\",\n",
        "                     \"he'd've\": \"he would have\",\"he'll\": \"he will\", \"he'll've\": \"he will have\",\n",
        "                     \"how'd\": \"how did\",\"how'd'y\": \"how do you\",\"how'll\": \"how will\",\n",
        "                     \"I'd\": \"I would\", \"I'd've\": \"I would have\",\"I'll\": \"I will\",\n",
        "                     \"I'll've\": \"I will have\",\"I'm\": \"I am\",\"I've\": \"I have\", \"isn't\": \"is not\",\n",
        "                     \"it'd\": \"it would\",\"it'd've\": \"it would have\",\"it'll\": \"it will\",\n",
        "                     \"it'll've\": \"it will have\", \"let's\": \"let us\",\"ma'am\": \"madam\",\n",
        "                     \"mayn't\": \"may not\",\"might've\": \"might have\",\"mightn't\": \"might not\", \n",
        "                     \"mightn't've\": \"might not have\",\"must've\": \"must have\",\"mustn't\": \"must not\",\n",
        "                     \"mustn't've\": \"must not have\", \"needn't\": \"need not\",\n",
        "                     \"needn't've\": \"need not have\",\"o'clock\": \"of the clock\",\"oughtn't\": \"ought not\",\n",
        "                     \"oughtn't've\": \"ought not have\",\"shan't\": \"shall not\",\"sha'n't\": \"shall not\",\n",
        "                     \"shan't've\": \"shall not have\",\"she'd\": \"she would\",\"she'd've\": \"she would have\",\n",
        "                     \"she'll\": \"she will\", \"she'll've\": \"she will have\",\"should've\": \"should have\",\n",
        "                     \"shouldn't\": \"should not\", \"shouldn't've\": \"should not have\",\"so've\": \"so have\",\n",
        "                     \"that'd\": \"that would\",\"that'd've\": \"that would have\", \"there'd\": \"there would\",\n",
        "                     \"there'd've\": \"there would have\", \"they'd\": \"they would\",\n",
        "                     \"they'd've\": \"they would have\",\"they'll\": \"they will\",\n",
        "                     \"they'll've\": \"they will have\", \"they're\": \"they are\",\"they've\": \"they have\",\n",
        "                     \"to've\": \"to have\",\"wasn't\": \"was not\",\"we'd\": \"we would\",\n",
        "                     \"we'd've\": \"we would have\",\"we'll\": \"we will\",\"we'll've\": \"we will have\",\n",
        "                     \"we're\": \"we are\",\"we've\": \"we have\", \"weren't\": \"were not\",\"what'll\": \"what will\",\n",
        "                     \"what'll've\": \"what will have\",\"what're\": \"what are\", \"what've\": \"what have\",\n",
        "                     \"when've\": \"when have\",\"where'd\": \"where did\", \"where've\": \"where have\",\n",
        "                     \"who'll\": \"who will\",\"who'll've\": \"who will have\",\"who've\": \"who have\",\n",
        "                     \"why've\": \"why have\",\"will've\": \"will have\",\"won't\": \"will not\",\n",
        "                     \"won't've\": \"will not have\", \"would've\": \"would have\",\"wouldn't\": \"would not\",\n",
        "                     \"wouldn't've\": \"would not have\",\"y'all\": \"you all\", \"y'all'd\": \"you all would\",\n",
        "                     \"y'all'd've\": \"you all would have\",\"y'all're\": \"you all are\",\n",
        "                     \"y'all've\": \"you all have\", \"you'd\": \"you would\",\"you'd've\": \"you would have\",\n",
        "                     \"you'll\": \"you will\",\"you'll've\": \"you will have\", \"you're\": \"you are\",\n",
        "                     \"you've\": \"you have\"}"
      ],
      "execution_count": null,
      "outputs": []
    },
    {
      "cell_type": "code",
      "metadata": {
        "id": "IiUznuZ7744J",
        "colab": {
          "base_uri": "https://localhost:8080/"
        },
        "outputId": "20039445-fa23-465d-8905-ebb442e8df30"
      },
      "source": [
        "# Regular expression for finding contractions\n",
        "import re\n",
        "contractions_re=re.compile('(%s)' % '|'.join(contractions_dict.keys()))\n",
        "contractions_re"
      ],
      "execution_count": null,
      "outputs": [
        {
          "output_type": "execute_result",
          "data": {
            "text/plain": [
              "re.compile(r\"(ain't|aren't|let’s|can't|can't've|'cause|could've|couldn't|couldn't've|didn't|doesn't|don't|hadn't|hadn't've|hasn't|haven't|he'd|he'd've|he'll|he'll've|how'd|how'd'y|how'll|I'd|I'd've|I'll|I'll've|I'm|I've|isn't|it'd|it'd've|it'll|it'll've|let's|ma'am|mayn't|might've|mightn't|mightn't've|must've|mustn't|mustn't've|needn't|needn't've|o'clock|oughtn't|oughtn't've|shan't|sha'n't|shan't've|she'd|she'd've|she'll|she'll've|should've|shouldn't|shouldn't've|so've|that'd|that'd've|there'd|there'd've|they'd|they'd've|they'll|they'll've|they're|they've|to've|wasn't|we'd|we'd've|we'll|we'll've|we're|we've|weren't|what'll|what'll've|what're|what've|when've|where'd|where've|who'll|who'll've|who've|why've|will've|won't|won't've|would've|wouldn't|wouldn't've|y'all|y'all'd|y'all'd've|y'all're|y'all've|you'd|you'd've|you'll|you'll've|you're|you've)\",\n",
              "re.UNICODE)"
            ]
          },
          "metadata": {
            "tags": []
          },
          "execution_count": 17
        }
      ]
    },
    {
      "cell_type": "code",
      "metadata": {
        "id": "o53wkEDZ8O_K"
      },
      "source": [
        "# Function for expanding contractions\n",
        "def expand_contractions(text,contractions_dict=contractions_dict):\n",
        "  def replace(match):\n",
        "    return contractions_dict[match.group(0)]\n",
        "  return contractions_re.sub(replace, text)"
      ],
      "execution_count": null,
      "outputs": []
    },
    {
      "cell_type": "code",
      "metadata": {
        "id": "aRWvO37K8Q3M"
      },
      "source": [
        "# Expanding Contractions in the messages\n",
        "df3['cleaned']=df3['cleaned'].astype(str).apply(lambda x:expand_contractions(x))"
      ],
      "execution_count": null,
      "outputs": []
    },
    {
      "cell_type": "code",
      "metadata": {
        "id": "KblgFJp4W8DQ"
      },
      "source": [
        "#check the applied contractions\n",
        "#test = df3[df3['id']==63]"
      ],
      "execution_count": null,
      "outputs": []
    },
    {
      "cell_type": "code",
      "metadata": {
        "id": "_0N1fj0QHFk_"
      },
      "source": [
        "#Converting text to all lower caps\n",
        "df3['cleaned']=df3['cleaned'].apply(lambda x: x.lower())"
      ],
      "execution_count": null,
      "outputs": []
    },
    {
      "cell_type": "code",
      "metadata": {
        "id": "Y9KpfIKu93LP"
      },
      "source": [
        "# #Translate to english \n",
        "# from time import sleep\n",
        "# from textblob import TextBlob\n",
        "# from textblob.exceptions import NotTranslated    \n",
        "\n",
        "# def translate_comment(x):\n",
        "#     try:\n",
        "#         # Try to translate the string version of the comment\n",
        "#         return TextBlob(str(x)).translate(to='en')\n",
        "#     except NotTranslated:\n",
        "#         # If the output is the same as the input just return the TextBlob version of the input\n",
        "#         return TextBlob(str(x))\n",
        "\n",
        "# for i in range(len(df3['cleaned'])):\n",
        "#     # Translate one comment at a time\n",
        "#     df3['cleaned'].iloc[i] = translate_comment(df3['cleaned'].iloc[i])\n",
        "\n",
        "#     # Sleep for a quarter of second\n",
        "#     sleep(0.25)"
      ],
      "execution_count": null,
      "outputs": []
    },
    {
      "cell_type": "code",
      "metadata": {
        "id": "Yy_zFoWL9YOL"
      },
      "source": [
        "#Removing digits and word containing digits\n",
        "df3['cleaned']=df3['cleaned'].apply(lambda x: re.sub('\\w*\\d\\w*','', x))"
      ],
      "execution_count": null,
      "outputs": []
    },
    {
      "cell_type": "code",
      "metadata": {
        "id": "rvf9FERp9mRl",
        "colab": {
          "base_uri": "https://localhost:8080/",
          "height": 1000
        },
        "outputId": "5bd65972-e427-437c-a35f-bfa7e95cd8cc"
      },
      "source": [
        "#Removing punctuations\n",
        "df3['cleaned']=df3['cleaned'].apply(lambda x: re.sub('[%s]' % re.escape(string.punctuation), '', x))\n",
        "df3.replace(\"'\",'', regex=True)"
      ],
      "execution_count": null,
      "outputs": [
        {
          "output_type": "execute_result",
          "data": {
            "text/html": [
              "<div>\n",
              "<style scoped>\n",
              "    .dataframe tbody tr th:only-of-type {\n",
              "        vertical-align: middle;\n",
              "    }\n",
              "\n",
              "    .dataframe tbody tr th {\n",
              "        vertical-align: top;\n",
              "    }\n",
              "\n",
              "    .dataframe thead th {\n",
              "        text-align: right;\n",
              "    }\n",
              "</style>\n",
              "<table border=\"1\" class=\"dataframe\">\n",
              "  <thead>\n",
              "    <tr style=\"text-align: right;\">\n",
              "      <th></th>\n",
              "      <th>id</th>\n",
              "      <th>date</th>\n",
              "      <th>from</th>\n",
              "      <th>text</th>\n",
              "      <th>mnth_yr</th>\n",
              "      <th>month</th>\n",
              "      <th>quarter</th>\n",
              "      <th>year</th>\n",
              "      <th>period</th>\n",
              "      <th>cleaned</th>\n",
              "    </tr>\n",
              "  </thead>\n",
              "  <tbody>\n",
              "    <tr>\n",
              "      <th>0</th>\n",
              "      <td>1</td>\n",
              "      <td>2019-04-04 07:32:16</td>\n",
              "      <td>NaN</td>\n",
              "      <td></td>\n",
              "      <td>April-2019</td>\n",
              "      <td>4</td>\n",
              "      <td>2</td>\n",
              "      <td>2019</td>\n",
              "      <td>2019-2</td>\n",
              "      <td></td>\n",
              "    </tr>\n",
              "    <tr>\n",
              "      <th>1</th>\n",
              "      <td>2</td>\n",
              "      <td>2019-04-04 07:34:42</td>\n",
              "      <td>NaN</td>\n",
              "      <td></td>\n",
              "      <td>April-2019</td>\n",
              "      <td>4</td>\n",
              "      <td>2</td>\n",
              "      <td>2019</td>\n",
              "      <td>2019-2</td>\n",
              "      <td></td>\n",
              "    </tr>\n",
              "    <tr>\n",
              "      <th>2</th>\n",
              "      <td>4</td>\n",
              "      <td>2019-04-05 08:50:34</td>\n",
              "      <td>@CryptoVigilante</td>\n",
              "      <td>[🕵 Welcome to the Crypto Vigilante Network chat.\\n\\n🏴 Here you can discuss crypto analysis, educational articles, scams, and shillers.\\n\\n✴ Follow the main channel , {'type': 'mention', 'text': '@CryptoVigilante'}, \\n\\n, {'type': 'link', 'text': 'https://medium.com/@CryptoVigilanteNetwork'}, ]</td>\n",
              "      <td>April-2019</td>\n",
              "      <td>4</td>\n",
              "      <td>2</td>\n",
              "      <td>2019</td>\n",
              "      <td>2019-2</td>\n",
              "      <td>🕵 welcome to the crypto vigilante network chatnn🏴 here you can discuss crypto analysis educational articles scams and shillersnn✴ follow the main channel  type mention text cryptovigilante nn type link text</td>\n",
              "    </tr>\n",
              "    <tr>\n",
              "      <th>3</th>\n",
              "      <td>5</td>\n",
              "      <td>2019-04-05 08:57:12</td>\n",
              "      <td>NaN</td>\n",
              "      <td></td>\n",
              "      <td>April-2019</td>\n",
              "      <td>4</td>\n",
              "      <td>2</td>\n",
              "      <td>2019</td>\n",
              "      <td>2019-2</td>\n",
              "      <td></td>\n",
              "    </tr>\n",
              "    <tr>\n",
              "      <th>4</th>\n",
              "      <td>6</td>\n",
              "      <td>2019-04-05 08:59:49</td>\n",
              "      <td>NaN</td>\n",
              "      <td></td>\n",
              "      <td>April-2019</td>\n",
              "      <td>4</td>\n",
              "      <td>2</td>\n",
              "      <td>2019</td>\n",
              "      <td>2019-2</td>\n",
              "      <td></td>\n",
              "    </tr>\n",
              "    <tr>\n",
              "      <th>...</th>\n",
              "      <td>...</td>\n",
              "      <td>...</td>\n",
              "      <td>...</td>\n",
              "      <td>...</td>\n",
              "      <td>...</td>\n",
              "      <td>...</td>\n",
              "      <td>...</td>\n",
              "      <td>...</td>\n",
              "      <td>...</td>\n",
              "      <td>...</td>\n",
              "    </tr>\n",
              "    <tr>\n",
              "      <th>596762</th>\n",
              "      <td>4955</td>\n",
              "      <td>2020-10-29 04:01:54</td>\n",
              "      <td>Crypto Daku</td>\n",
              "      <td>[{'type': 'link', 'text': 'https://twitter.com/CoinDesk/status/1321531639940481024?s=19'}]</td>\n",
              "      <td>October-2020</td>\n",
              "      <td>10</td>\n",
              "      <td>4</td>\n",
              "      <td>2020</td>\n",
              "      <td>2020-4</td>\n",
              "      <td>type link text</td>\n",
              "    </tr>\n",
              "    <tr>\n",
              "      <th>596763</th>\n",
              "      <td>4956</td>\n",
              "      <td>2020-10-29 11:04:26</td>\n",
              "      <td>Crypto Daku</td>\n",
              "      <td>[{'type': 'bold', 'text': 'Binance Will List Bounce (BOT) in the Innovation Zone\n",
              "'}, \\n, {'type': 'link', 'text': 'https://www.binance.com/en/support/announcement/19e84ae4ae924272b75f67702e06fa5e'}]</td>\n",
              "      <td>October-2020</td>\n",
              "      <td>10</td>\n",
              "      <td>4</td>\n",
              "      <td>2020</td>\n",
              "      <td>2020-4</td>\n",
              "      <td>type bold text binance will list bounce bot in the innovation zonen n type link text</td>\n",
              "    </tr>\n",
              "    <tr>\n",
              "      <th>596764</th>\n",
              "      <td>4957</td>\n",
              "      <td>2020-10-29 11:27:05</td>\n",
              "      <td>Crypto Daku</td>\n",
              "      <td>[{'type': 'link', 'text': 'https://near.org/blog/balancers-defi-protocol-is-bringing-programmable-liquidity-to-near/'}]</td>\n",
              "      <td>October-2020</td>\n",
              "      <td>10</td>\n",
              "      <td>4</td>\n",
              "      <td>2020</td>\n",
              "      <td>2020-4</td>\n",
              "      <td>type link text</td>\n",
              "    </tr>\n",
              "    <tr>\n",
              "      <th>596765</th>\n",
              "      <td>4958</td>\n",
              "      <td>2020-10-29 12:25:41</td>\n",
              "      <td>Crypto Daku</td>\n",
              "      <td>[{'type': 'link', 'text': 'https://cointelegraph.com/news/indian-bank-to-offer-crypto-services-across-its-34-branches'}]</td>\n",
              "      <td>October-2020</td>\n",
              "      <td>10</td>\n",
              "      <td>4</td>\n",
              "      <td>2020</td>\n",
              "      <td>2020-4</td>\n",
              "      <td>type link text</td>\n",
              "    </tr>\n",
              "    <tr>\n",
              "      <th>596766</th>\n",
              "      <td>4959</td>\n",
              "      <td>2020-10-29 13:02:47</td>\n",
              "      <td>Crypto Daku</td>\n",
              "      <td>[Woo: \\n\\nHuobi too 😳😳\\n, {'type': 'link', 'text': 'https://twitter.com/HuobiGlobal/status/1321709964302245888?s=20'}, ]</td>\n",
              "      <td>October-2020</td>\n",
              "      <td>10</td>\n",
              "      <td>4</td>\n",
              "      <td>2020</td>\n",
              "      <td>2020-4</td>\n",
              "      <td>woo nnhuobi too 😳😳n type link text</td>\n",
              "    </tr>\n",
              "  </tbody>\n",
              "</table>\n",
              "<p>596767 rows × 10 columns</p>\n",
              "</div>"
            ],
            "text/plain": [
              "          id  ...                                                                                                                                                                                                           cleaned\n",
              "0          1  ...                                                                                                                                                                                                                  \n",
              "1          2  ...                                                                                                                                                                                                                  \n",
              "2          4  ...  🕵 welcome to the crypto vigilante network chatnn🏴 here you can discuss crypto analysis educational articles scams and shillersnn✴ follow the main channel  type mention text cryptovigilante nn type link text  \n",
              "3          5  ...                                                                                                                                                                                                                  \n",
              "4          6  ...                                                                                                                                                                                                                  \n",
              "...      ...  ...                                                                                                                                                                                                               ...\n",
              "596762  4955  ...                                                                                                                                                                                                   type link text \n",
              "596763  4956  ...                                                                                                                             type bold text binance will list bounce bot in the innovation zonen n type link text \n",
              "596764  4957  ...                                                                                                                                                                                                   type link text \n",
              "596765  4958  ...                                                                                                                                                                                                   type link text \n",
              "596766  4959  ...                                                                                                                                                                              woo nnhuobi too 😳😳n type link text  \n",
              "\n",
              "[596767 rows x 10 columns]"
            ]
          },
          "metadata": {
            "tags": []
          },
          "execution_count": 24
        }
      ]
    },
    {
      "cell_type": "code",
      "metadata": {
        "id": "rWNVilOw90Jz"
      },
      "source": [
        "# Removing extra spaces\n",
        "df3['cleaned']=df3['cleaned'].apply(lambda x: re.sub(' +',' ',x))"
      ],
      "execution_count": null,
      "outputs": []
    },
    {
      "cell_type": "code",
      "metadata": {
        "id": "qizbZvRW-SeJ"
      },
      "source": [
        "#Lemmatizing with additional stop words\n",
        "# Importing spacy\n",
        "import spacy\n",
        "# Loading model\n",
        "nlp = spacy.load('en_core_web_sm',disable=['parser', 'ner'])\n",
        "nlp.Defaults.stop_words |= {\"aa\",\"aaa\",\"aaaa\",\"aaaaa\",\"aaaaaa\",\"aaaaaaa\",\"aaaaaaaa\",\"aaaaaaaaaa\",\"aaaaaaaaaaa\",\"aaaaaaaaaaaa\",\n",
        "                            \"aaaaaaaaaaaaa\",\"aaaaaaaaaaaaaaa\",\"aaaaaaaaaaaaaaaaaaaa\",\"aaaaaaaaaaaaaaaaaaaaaaaaaa\",\n",
        "                            \"aaaaaaaaahahahahah\",\"aaaah\",\"aaaand\",\"aaaannps\",\"aaaarrrrrin\",\"aaahahahaahahàaaaahahaha\",\"aaave\",\n",
        "                            \"aaavegotchpocicho\",\"aaawww\",\"aabtc\",\"aactually\",\"aagent\",\"aahaahahaahah\",\"aahah\",\"aahahahah\",\"aahha\",\n",
        "                            \"aahhaaahhahahahaha\",\"aalso\",\"aam\",\"aand\",\"aanswere\",\"aapl\",\"aapprentice\",\"aare\",\"aaron\",\"aasset\",\"...\",\n",
        "                            \"эфир\",\"эфирnn\",\"января\",\"ಠಠ\",\"⅒x\",\"ノnヽ\",\"ヽn\t三ヽ人\", \"假币在uniswap上\",\"北風\",\"发现一个crv\",\"和或者\",\n",
        "                            \"如果你们曾有过任何交流\",\"并尽快告知我\",\"沟通过的人\",\"牛币\",\"肏你妈\",\"该代币的合约代码中有示例注释\",\n",
        "                            \"该币发行者甚至没有移除这些明显的注释\",\"请提供给我详细的记录\",\"请立即停止你们的联系\",\"谢谢\",\"계약을\",\"고객지원\",\n",
        "                            \"공식\",\"대행\",\"블록체인\",\"삼성\",\"삼성전자와\",\"서비스\",\"서비스를\",\"알려드립니다\",\"업무\",\"웁살라시큐리티는\",\n",
        "                            \"월렛의\",\"제휴\",\"지원하기로\",\"체결하여\",\"협의하였음을\",\"zzkkkkeeekkkkkk\",\"zzz\",\"zzzz\",\"zzzzz\",\"Ã¡ndale\",\n",
        "                            \"Ã¡ngela\",\"ссылка\",\"ссылке\",\"стрим\",\"стрима\",\"таймкоды\",\"так\",\"также\",\"текущий\",\"телеграм\",\"токене\",\n",
        "                            \"токенов\",\"том\",\"топы\",\"трансляцию\",\"тренды\",\"тут\",\"ты\",\"удачи\",\"удобства\",\"условия\",\"участия\",\n",
        "                            \"участник\",\"участников\",\"фармится\",\"фас\",\"форму\",\"хайп\",\"чад\",\"часов\",\"чатик\",\"человек\",\"через\",\"что\",\n",
        "                            \"чтобы\",\"штук\",\"этапа\",\"этапов\",\"это\",\"этого\",\"этом\",\"приватизация\",\"приз\",\"призов\",\"проектам\",\"проектов\",\"пропустить\",\n",
        "                            \"пропуститьnnваш\",\"проснувшихся\",\"простую\",\"простыми\",\"профитной\",\"прям\",\"прямо\",\"прямой\",\"разделим\",\n",
        "                            \"разыграть\",\"разыграют\",\"расскажет\",\"ретвитнуть\",\"решила\",\"решили\",\"рынок\",\"самую\",\"сатоши\",\"свежие\",\n",
        "                            \"своей\",\"сделали\",\"сделки\",\"сегодня\",\"секретный\",\"сердце\",\"сети\",\"сказал\",\"следующем\",\"слова\",\n",
        "                            \"случайных\",\"смотри\",\"спасибо\",\"спящих\",\"среди\",\"многое\",\"множество\",\"мск\",\"мскnвот\",\"мскnи\",\"мы\",\"на\",\n",
        "                            \"нам\",\"напомнить\",\"нас\",\"наступающем\",\"насыщенный\",\"наш\",\"нашего\",\"нашему\",\"не\",\"необходимо\",\n",
        "                            \"несколько\",\"новому\",\"новости\",\"новых\",\"обновляющих\",\"обсудили\",\"обсудим\",\"объявим\",\"первом\",\n",
        "                            \"переходите\",\"перспективы\",\"пиши\",\"планы\",\"по\",\"победителей\",\"поговорить\",\"подписаться\",\"показать\",\n",
        "                            \"получит\",\"после\",\"пост\",\"правиламиnn\",\"при\",\"желуди\",\"жизнь\",\"жми\",\"жмите\",\"за\",\"закреплённом\",\"заполнить\",\n",
        "                            \"иван\",\"ивана\",\"из\",\"индустрия\",\"интересен\",\"интересных\",\"историю\",\"как\",\"какие\",\"канал\",\"карликов\",\n",
        "                            \"киев\",\"команда\",\"коментах\",\"комменте\",\"комьюнити\",\"конечно\",\"конкурсом\",\"которые\",\"который\",\"которым\",\n",
        "                            \"крутую\",\"куда\",\"ли\",\"лишь\",\"лобстера\",\"лои\",\"лудилка\",\"любом\",\"маркетинговым\",\"мне\",\"мнению\",\"много\",\n",
        "                            \"zu\",\"zug\",\"адвайзером\",\"айсберга\",\"активности\",\"аудиоверсию\",\"аудиоподкаст\",\"блокчейн\",\"будет\",\"бывшим\",\"был\",\"вашего\",\n",
        "                            \"ведь\",\"верхушка\",\"взгляд\",\"возможностей\",\"все\",\"всего\",\"всем\",\"встречеnnваш\",\"выбились\",\"выполнивших\",\"где\",\"гигантов\",\n",
        "                            \"год\",\"году\",\"головко\",\"гостях\",\"график\",\"далее\",\"два\",\"движется\",\"декабря\",\"для\",\"добавили\",\"другоеnnпоговорим\",\"душу\",\n",
        "                            \"есть\",\"еще\",\"же\",\"type\",\"text\",\"link\",\"mention\",\"u\",\"sir\",\"lol\",\"rekt\",\"people\",\"s\",\"ye\",\"know\",\"ser\",\"think\",\"go\",\n",
        "                            \"stuff\",\"yes\",\"ok\",\"sell\",\"thing\",\"token\",\"new\",\"mean\",\"actually\",\"fuck\",\"eth\",\"pool\",\"time\",\"let\",\n",
        "                            \"thank\",\"yfi\",\"try\",\"guy\",\"shill\",\"say\",\"get\",\"aaaaaaaaaaaaaaaaa\",\"aaaaaaaaaaaaaaaaaaaaaaaaaaaaaaaaaaa\",\"aaaaaaaaaall\",\n",
        "                            \"aaaaaaaall\",\"aaaaaahno\",\"aaaaah\",\"aaaaand\",\"aaaagh\",\"aaaahhhhhhhh\",\"aaah\",\"aaand\",\"aabaut\",\"aadenine\",\"aaeva\",\"aaeve\",\n",
        "                            \"aagent\",\"aah\",\"aahaha\",\"aahh\",\"aahhahaa\",\"aai\",\"aaint\",\"aajoan\",\"aalthough\",\"aamze\",\"aann\",\"aannon\",\"aanswere\",\"aapldai\",\n",
        "                            \"aapprentice\",\"aaqnd\",\"aart\",\"aaryan\",\"aasset\",\"aasynchronous\",\"aatoken\",\"aava\",\"aave\",\"aaveaave\",\"aavecado\",\n",
        "                            \"투자자로서\",\"투자자의\",\"투자하기\",\"투자하기에\",\"투자한\",\"파트너가\",\"파트너이자\",\"파트너인\",\"하이요\",\"해서\",\"해시드\",\"해시드와\",\n",
        "                            \"현재가\",\"혜안heaan\",\"획득을\",\"획득하는데\",\"“\",\"”\",\"**<+\\\\’wbixos739>~+¥}\",\"<•>\",\"s\",\"like\",\"good\",\"not\",\"bold\",\"work\",\"token\",\n",
        "                            \"project\",\"bitcoin\",\"centralization\",\"decentralization\",\"decentralize\",\"decentralized\",\"blockchain\",\"defi\",\"governance\",\n",
        "                            \"regulation\",\n",
        "}\n",
        "# Lemmatization with stopwords removal\n",
        "df3['lemmatized']=df3['cleaned'].apply(lambda x: ' '.join([token.lemma_ for token in list(nlp(x)) if (token.is_stop==False)]))"
      ],
      "execution_count": null,
      "outputs": []
    },
    {
      "cell_type": "markdown",
      "metadata": {
        "id": "Kiibr2xJuc0j"
      },
      "source": [
        "Sentiment Analysis - VADER "
      ]
    },
    {
      "cell_type": "code",
      "metadata": {
        "id": "W5kIaPZrul5j",
        "colab": {
          "base_uri": "https://localhost:8080/"
        },
        "outputId": "a4386fe8-833d-4abd-c176-6d9ffa980b02"
      },
      "source": [
        "#vader sentiment analyzer\n",
        "import nltk\n",
        "nltk.download('vader_lexicon')\n",
        "from nltk.sentiment.vader import SentimentIntensityAnalyzer\n",
        "\n",
        "sid = SentimentIntensityAnalyzer()"
      ],
      "execution_count": null,
      "outputs": [
        {
          "output_type": "stream",
          "text": [
            "[nltk_data] Downloading package vader_lexicon to /root/nltk_data...\n"
          ],
          "name": "stdout"
        },
        {
          "output_type": "stream",
          "text": [
            "/usr/local/lib/python3.6/dist-packages/nltk/twitter/__init__.py:20: UserWarning: The twython library has not been installed. Some functionality from the twitter package will not be available.\n",
            "  warnings.warn(\"The twython library has not been installed. \"\n"
          ],
          "name": "stderr"
        }
      ]
    },
    {
      "cell_type": "code",
      "metadata": {
        "id": "4S5Nm9_pvyRI"
      },
      "source": [
        "#Removing emojis\n",
        "import emoji\n",
        "def give_emoji_free_text(text):\n",
        "    allchars = [str for str in text]\n",
        "    emoji_list = [c for c in allchars if c in emoji.UNICODE_EMOJI]\n",
        "    clean_text = ' '.join([str for str in text.split() if not any(i in str for i in emoji_list)])\n",
        "    return clean_text\n",
        "df3['lemmatized_wo_emoji']=df3['lemmatized'].astype(str).apply(lambda x:give_emoji_free_text(x))"
      ],
      "execution_count": null,
      "outputs": []
    },
    {
      "cell_type": "code",
      "metadata": {
        "id": "RAI6cHlluqFU"
      },
      "source": [
        "#Scoring polarity\n",
        "df3['scores'] = df3['lemmatized_wo_emoji'].apply(lambda x: sid.polarity_scores(x))"
      ],
      "execution_count": null,
      "outputs": []
    },
    {
      "cell_type": "code",
      "metadata": {
        "id": "64ZHL2L_uzTd"
      },
      "source": [
        "#Extracting compund score\n",
        "df3['compound']  = df3['scores'].apply(lambda score_dict: score_dict['compound'])"
      ],
      "execution_count": null,
      "outputs": []
    },
    {
      "cell_type": "code",
      "metadata": {
        "id": "LWFdaPquu_Mh",
        "colab": {
          "base_uri": "https://localhost:8080/",
          "height": 610
        },
        "outputId": "3082f9c2-cf49-45db-9297-69e7e9d3e9e2"
      },
      "source": [
        "#Plotting sentiment histogram\n",
        "from matplotlib import pyplot as plt\n",
        "plt.figure(figsize=(50,30))\n",
        "plt.margins(0.02)\n",
        "plt.xlabel('sentiment', fontsize=50)\n",
        "plt.xticks(fontsize=40)\n",
        "plt.ylabel('Frequency', fontsize=50)\n",
        "plt.yticks(fontsize=40)\n",
        "plt.hist(df3['compound'], bins=50)\n",
        "plt.title('Sentiment Distribution', fontsize=60)\n",
        "plt.show()"
      ],
      "execution_count": null,
      "outputs": [
        {
          "output_type": "display_data",
          "data": {
            "image/png": "[encoded data removed]",
            "text/plain": [
              "<Figure size 3600x2160 with 1 Axes>"
            ]
          },
          "metadata": {
            "tags": [],
            "needs_background": "light"
          }
        }
      ]
    },
    {
      "cell_type": "code",
      "metadata": {
        "id": "nRsLciqPHDKb",
        "colab": {
          "base_uri": "https://localhost:8080/"
        },
        "outputId": "9314258b-0289-4d67-8e74-86a4efaf50b5"
      },
      "source": [
        "#Checking random messages with highest polarity\n",
        "print(\"3 Random Messages with Highest Polarity:\")\n",
        "for index,review in enumerate(df3.loc[df3['compound'].sort_values(ascending=False)[:3].index]['text']):\n",
        "  print('Message {}:\\n'.format(index+1),review)"
      ],
      "execution_count": null,
      "outputs": [
        {
          "output_type": "stream",
          "text": [
            "3 Random Messages with Highest Polarity:\n",
            "Message 1:\n",
            " s as a network-level incentive to grow the Pi Network while also incentivizing engagement among members in actively securing the network.\n",
            "\n",
            "D - Developer Reward Supply (Additional Pi minted to support ongoing development)\n",
            "Pi will fund its ongoing development with a “Developer Reward” that is minted alongside each coin that is minted for mining and referrals. Traditionally, cryptocurrency protocols have minted a fixed amount of supply that is immediately placed into treasury. Because Pi’s total supply is dependent on the number of members in the network, Pi progressively mints its developer reward as the network scales. The progressive minting of Pi’s developer reward is meant to align the incentives of Pi’s contributors with the overall health of the network. \n",
            "\n",
            "f is a logarithmically decreasing function - early members earn more\n",
            "While Pi seeks to avoid extreme concentrations of wealth, the network also seeks to reward earlier members and their contributions with a relatively larger share of Pi. When networks such as Pi are in their early days, they tend to provide a lower utility to participants. For example, imagine having the very first telephone in the world. It would be a great technological innovation but not extremely useful. However, as more people acquire telephones, each telephone holder gets more utility out of the network. In order to reward people that come to the network early, Pi’s individual mining reward and referral rewards decrease as a function of the number of people in the network. In other words, there is a certain amount of Pi that is reserved for each “slot” in the Pi Network.\n",
            "\n",
            "Utility: Pooling and monetizing our time online \n",
            "Today, everyone is sitting on a veritable treasure trove of untapped resources. Each of us spend hours day on our phones. While on our phones, each of our views, posts or clicks creates extraordinary profits for large corporations. At Pi, we believe that people have the right to capture value created from their resources. \n",
            "\n",
            "\n",
            "We all know that we can do more together than we can alone. On today’s web, massive corporations like Google, Amazon, Facebook have immense leverage against individual consumers. As a result, they are able to capture the lionshare of value created by individual consumers on the web. Pi levels the playing field by allowing its members to pool their collective resources so they can get a share of the value that they create.\n",
            "\n",
            "\n",
            "The graphic below is the Pi Stack, where we see particularly promising opportunities for helping our members capture value. Below, we go into each of these areas in more detail.\n",
            "\n",
            "Introducing the Pi Stack - Unleashing underutilized resources\n",
            "\n",
            "\n",
            "Pi Ledger And Shared Trust Graph - Scaling Trust Across The Web\n",
            "One of the biggest challenges on the internet is knowing who to trust. Today, we rely on the  rating systems of providers such as Amazon, eBay, Yelp, to know who we can transact with on the internet. Despite the fact that we, customers, do the hard work of rating and reviewing our peers, these internet intermediaries capture the lionshare of the value created this work.\n",
            "\n",
            "\n",
            "Pi’s consensus algorithm, described above, creates a native trust layer that scales trust on the web without intermediaries. While the value of just one individual’s Security Circle is small, the aggregate of our individual security circles build a global “trust graph” that help people understand who on the Pi Network can be trusted. The Pi Network’s global trust graph will facilitate transactions between strangers that would not have otherwise been possible. Pi’s native currency, in turn, allows everyone who contributes to the security of the network to capture a share of the value they have helped create.\n",
            "\n",
            "Pi’s Attention Marketplace - Bartering Unutilized Attention And Time\n",
            "Pi allows its members to pool their collective attention to create an attention market much more valuable than any individual’s attention alone. The first application built on this layer will be a scarce social media channel currently hosted on the home screen of the application. You can think of\n",
            "Message 2:\n",
            " [\"The market is picking up again, groups are alive, bags are happy and instead of attacking each other, we're in the midst of a post bear market, semi pre bull market euphoric love in, every project is a potential 100x, and private raises are all the rage...What a great time to try something new...\\n\\n\", {'type': 'code', 'text': '🚀 Introducing the \"Super Shill Session\"'}, ' 🚀\\n\\nThe idea is this, at the end of the day, anyone who owns a bag or something and talks about it, is a shill.  There is a lot of hate for shilling in the crypto community as anyone who has been in crypto for five minutes has been shilled something that has turned out to be a rekt bag.  \\n\\n🤷\\u200d♂️ But without shillers, what would you do?  Reed white papers?  Analyze the fundamentals of a project? \\n\\nBe real, you know you wouldn\\'t....If you look back on a lot of the coins you have bought, I\\'m sure you can pick some source of info that guided you in discovering that bag, maybe you did a little bit of DYOR along the way, but someone, some place at some time, shilled you that bag...\\n\\nBesides, the beauty of a bull market is the \"Who\\'s Line is It Anyway?\" theory...\\n\\n', {'type': 'code', 'text': '\"a market where (as always) the money is made up and the fundamentals don\\'t matter\"\\n\\n'}, 'So this dictates the premise of the shill.  \\n\\n', {'type': 'italic', 'text': 'Market up, bags happy, people happy, people therefore happy to talk about and shill bags to one another.\\n\\n'}, \"Now for the super component of the shill.  While we have a great time bringing projects into the group and talking to them about what they're up to, there are obvious limitations to what projects can talk about.  Some things they might not be about to legally mention (price talk), other things they may be holding back on for a later date, or have an issue that they don't want addressed directly.  Some teams are able to sell themselves better than others and some simply don't do many AMA's.  \\n\\nSo why not instead of talking to a team member about a project, you talk to an authoritative community member, perhaps one nominated by that particular community themselves.  A community member that can speak on some of the things the team cannot, who can put the super into super shill... \\n\\nIf you've been a part of enough cyrpto communities, you know that within them there are always a few super shills, the ones who you see their username on Telegram and automatically identify them with a coin.  Those guys are the ones we want to come into our community and super shill their coins.\\n\\nThe idea here is to do something new, have a bit of fun, have different crypto communities discover each other and learn something about a few projects along the way.  \\n\\n\", {'type': 'bold', 'text': 'There is no ulterior motive here.  \\n\\n'}, 'To keep it fair, we\\'ll run a poll first to let the community decide which projects should be \"Super Shilled\".  Once decided, it will be then up to that community to nominate their Super Shiller and send them here on a Tuesday for the Super Shill Session!\\n\\nMaybe we could DAO the votes?  Andre, Andrew, Ivan, what do you think?  😉\\n\\nIf there is interest for this, we\\'ll start off with a shortlist of projects to be voted on this coming Tuesday.  If you would like a project to be nominated, please state your case in the group, we\\'ll take names and provide a shortlist to vote on Tuesday the 28h of July.  The first Super Shill Session will be on the 4th of August.\\n\\n', {'type': 'bold', 'text': 'TLDR'}, ' of the ', {'type': 'code', 'text': 'Super Shill Session\\n\\n\\U0001f9ed'}, ' The S', {'type': 'bold', 'text': 'uper Shill Session '}, 'is a 2h long event.\\n👉 Every second Tuesday group admins will AMA a Community Super Shiller\\n👨\\u200d👩\\u200d👦\\u200d👦 Community participation across the board is encouraged!\\n⚔️ Super Shilled Projects are decided via C', {'type': 'bold', 'text': 'ommunity Vote.'}, '']\n",
            "Message 3:\n",
            " most impressive innovations is its marriage of distributed systems with economic game theory. \n",
            "\n",
            "\n",
            "Pros\n",
            "\n",
            "Fixed Supply\n",
            "Bitcoin’s economic model is simple. There will only ever be 21 million Bitcoin in existence. This number is set in code. With only 21M to circulate among 7.5B people around the world, there is not enough Bitcoin to go around. This scarcity is one of most important drivers of Bitcoin’s value.\n",
            "\n",
            "Decreasing Block Reward\n",
            "Bitcoin’ distribution scheme, pictured below, further enforces this sense of scarcity. The Bitcoin block mining reward halves every 210,000 blocks (approximately every ~4 years.) In its early days, the Bitcoin block reward was 50 coins. Now, the reward is 12.5, and will further decrease to 6.25 coins in May 2020. Bitcoin’s decreasing rate of distribution means that, even as awareness of the currency grows, there is less to actually mine.\n",
            "\n",
            "Cons \n",
            "Inverted Means Uneven \n",
            "Bitcoin’s inverted distribution model (less people earning more in the beginning, and more people earn less today) is one of the primary contributors to its uneven distribution. With so much Bitcoin in the hands of a few early adopters, new miners are “burning” more energy for less bitcoin. \n",
            "Hoarding Inhibits Use as a Medium of Exchange\n",
            "Although Bitcoin was released as a “peer to peer electronic cash” system, the relative scarcity of Bitcoin has impeded Bitcoin’s goal of serving as a medium exchange. Bitcoin’s scarcity has led to its perception as a form of “digital gold” or a digital store of value. The result of this perception is that many Bitcoin holders are unwilling to spend Bitcoin on day-to-day expenses.\n",
            "\n",
            "The Pi Economic Model\n",
            "Pi, on the other hand, seeks to strike a balance between creating a sense of scarcity for Pi, while still ensuring that a large amount does not accumulate into a very small number of hands. We want to make sure our users earn more Pi as they make contributions to the network. Pi’s goal is to build an economic model that is sophisticated enough to achieve and balance these priorities while remaining intuitive enough for people to use. \n",
            "\n",
            "\n",
            "Pi’s economic model design requirements:\n",
            "\n",
            "\n",
            "Simple: Build an intuitive and transparent model\n",
            "\n",
            "Fair distribution: Give a critical mass of the world’s population access to Pi\n",
            "\n",
            "Scarcity: Create a sense of scarcity to sustain Pi’s price over time\n",
            "\n",
            "Meritocratic earning: Reward contributions to build and sustain the network\n",
            "\n",
            "Pi - Token Supply \n",
            "Token Emission Policy\n",
            "Total Max Supply = M + R + D\n",
            "\n",
            "M = total mining rewards\n",
            "\n",
            "R = total referral rewards\n",
            "\n",
            "D = total developer rewards\n",
            "\n",
            "\n",
            "M = ∫ f(P) dx where f is a logarithmically declining function\n",
            "\n",
            "P = Population number (e.g., 1st person to join, 2nd person to join, etc.)\n",
            "\n",
            "\n",
            "R = r * M\n",
            "\n",
            "r = referral rate (50% total or 25% for both referrer and referee)\n",
            "\n",
            "\n",
            "D = t * (M + R)\n",
            "\n",
            "t = developer reward rate (25%)\n",
            "\n",
            "\n",
            "M - Mining Supply (Based on fixed mining supply minted per person)\n",
            "In contrast to Bitcoin which created a fixed supply of coins for the entire global population, Pi creates a fixed supply of Pi for each person that joins the network up to the first 100 Million participants. In other words, for each person that joins the Pi Network, a fixed amount of Pi is pre-minted. This supply is then released over the lifetime of that member based on their level of engagement and contribution to network security. The supply is released using an exponentially decreasing function similar to Bitcoin’s over the member’s lifetime.\n",
            "\n",
            "R - Referral Supply (Based on fixed referral reward minted per person and shared b/w referrer and referee)\n",
            "In order for a currency to have value, it must be widely distributed. To incentivize this goal, the protocol also generates a fixed amount of Pi that serves as a referral bonus for both the referrer and the referee (or both parent and offspring :) This shared pool can be mined by both parties over their lifetime - when both parties are actively mining. Both referrer and referee are able to draw upon this pool in order to avoid exploitative models where referrers are able to “prey” on their referees. The referral bonus serve\n"
          ],
          "name": "stdout"
        }
      ]
    },
    {
      "cell_type": "code",
      "metadata": {
        "id": "8Fgv8mRqHp6s",
        "colab": {
          "base_uri": "https://localhost:8080/"
        },
        "outputId": "404c8211-c36c-45e6-d4e4-1da5c4370a22"
      },
      "source": [
        "#Checking random messages with lowest polarity\n",
        "print(\"3 Random Reviews with Lowest Polarity:\")\n",
        "for index,review in enumerate(df3.loc[df3['compound'].sort_values(ascending=True)[:3].index]['text']):\n",
        "  print('Message {}:\\n'.format(index+1),review)"
      ],
      "execution_count": null,
      "outputs": [
        {
          "output_type": "stream",
          "text": [
            "3 Random Reviews with Lowest Polarity:\n",
            "Message 1:\n",
            " [{'type': 'bold', 'text': 'Top 20 Countries: Most COVID-19 Deaths\\n\\n'}, '1. USA - 230,510 deaths\\n2. Brazil - 157,163 deaths\\n3. India - 119,030 deaths\\n4. Mexico - 88,743 deaths\\n5. UK - 44,896 deaths\\n6. Italy - 37,338 deaths\\n7. France - 34,761 deaths\\n8. Spain - 34,752 deaths\\n9. Peru - 34,149 deaths\\n10. Iran - 32,616 deaths\\n11. Colombia - 30,154 deaths\\n12. Argentina - 28,896 deaths\\n13. Russia - 26,050 deaths\\n14. South Africa - 18,968 deaths\\n15. Chile - 13,944 deaths\\n16. Indonesia - 13,299 deaths\\n17. Ecuador - 12,553 deaths\\n18. Belgium - 10,737 deaths\\n19. Iraq - 10,623 deaths\\n20. Germany - 10,138 deaths\\n\\n', {'type': 'bold', 'text': 'Top 20 Countries: COVID-19 Deaths per 1 Million'}, ' ', {'type': 'bold', 'text': 'People\\n\\n'}, '1. Peru - 1,031 deaths per million\\n2. Belgium - 925 deaths per million\\n3. Spain - 743 deaths per million\\n4. Brazil - 738 deaths per million\\n5. Bolivia - 736 deaths per million\\n6. Chile - 727 deaths per million\\n7. Ecuador - 708 deaths per million\\n8. USA - 695 deaths per million\\n9. Mexico - 686 deaths per million\\n10. UK - 660 deaths per million\\n11. Argentina - 637 deaths per million\\n12. Italy - 618 deaths per million\\n13. Panama - 607 deaths per million\\n14. Colombia - 591 deaths per million\\n15. Sweden - 586 deaths per million\\n16. France - 532 deaths per million\\n17. North Macedonia - 441 deaths per million\\n18. Montenegro - 424 deaths per million\\n19. Moldova - 418 deaths per million\\n20. Netherlands - 411 deaths per million\\n\\n', {'type': 'mention', 'text': '@COVID19Up'}, ' ', {'type': 'text_link', 'text': 'SOURCE\\n\\n', 'href': 'https://www.worldometers.info/coronavirus/#countries'}, 'If you find value in what this channel provides, please consider tipping a few dollars to keep it going:\\n\\nCash App - $g3hq\\nPayPal - ', {'type': 'link', 'text': 'paypal.me/g3group'}, '\\n\\nBTC:\\n3CrhBUE1K9uXJfUKgqHQgwAir4Mso8Nvgj\\n\\nXLM: GDQP2KPQGKIHYJGXNUIYOMHARUARCA7DJT5FO2FFOOKY3B2WSQHG4W37\\n\\nBAT:\\n0x6b5951b2e2e373A5F640760fAA83c6B2257c5670\\n\\nETH:\\n0x942A0A5c6A56a0e03cAA9797bb46Af243788d7Db\\n\\nLTC:\\nMTWaa82H27RfhekvKbP4mNH8Edi9agPyWu\\n\\nBCH:\\nqp2ul2n9qenwh23ldyqexl0jq2xmuqnwusrxjcmq8f']\n",
            "Message 2:\n",
            " [{'type': 'bold', 'text': 'Comparing COVID-19 Deaths to Flu Deaths is Like Comparing Apples to Oranges'}, '\\n\\nWhen reports about the novel coronavirus SARS-CoV-2 began circulating earlier this year and questions were being raised about how the illness it causes, COVID-19, compared to the flu, it occurred to me that, in four years of emergency medicine residency and over three and a half years as an attending physician, ', {'type': 'bold', 'text': 'I had almost never seen anyone die of the flu'}, '. I could only remember one tragic pediatric case.\\n\\nBased on the CDC numbers though, I should have seen many, many more. In 2018, over 46,000 Americans died from opioid overdoses. Over 36,500 died in traffic accidents. Nearly 40,000 died from gun violence. I see those deaths all the time. Was I alone in noticing this discrepancy?\\n\\nI decided to call colleagues around the country who work in other emergency departments and in intensive care units to ask a simple question: how many patients could they remember dying from the flu? ', {'type': 'bold', 'text': 'Most of the physicians I surveyed couldn’t remember a single one over their careers'}, '. Some said they recalled a few. All of them seemed to be having the same light bulb moment I had already experienced: For too long, we have blindly accepted a statistic that does not match our clinical experience.\\n\\nIn the last six flu seasons, the CDC’s reported number of actual confirmed flu deaths—that is, counting flu deaths the way we are currently counting deaths from the coronavirus—has ranged from ', {'type': 'bold', 'text': '3,448 to 15,620'}, '.\\n\\nThere is some logic behind the CDC’s methods. There are, of course, some flu deaths that are missed, because not everyone who contracts the flu gets a flu test. But there are ', {'type': 'bold', 'text': 'little data to support the CDC’s assumption that the number of people who die of flu each year is on average six times greater than the number of flu deaths that are actually confirmed'}, '. In fact, in the fine print, the ', {'type': 'bold', 'text': 'CDC’s flu numbers also include pneumonia deaths'}, '.\\n\\nThe CDC should immediately change how it reports flu deaths. \\n\\n', {'type': 'link', 'text': 'https://blogs.scientificamerican.com/observations/comparing-covid-19-deaths-to-flu-deaths-is-like-comparing-apples-to-oranges/'}, '\\n\\n\\U0001f9a0', {'type': 'mention', 'text': '@COVID19report'}, '']\n",
            "Message 3:\n",
            " [{'type': 'bold', 'text': 'OhHeyMatty. The Influencer that Never Was and Never Will be.'}, '\\n\\nPaid to shill American hillbilly OhHeyMatty who barely gets 300 views on Youtube and who gave NEX a score of 102%, exit scam Apex 96%, exit scam Hybridblock 93%, exit scam Zebi 91%, exit scam Tolar 87%, exit scam Atonomi 87%, exit scam beard neck oil 89%, exit scam Navi 85%, exit scam Wework IPO 95%, exit scam Cardstack 84%, exit scam Navi 85%, exit scam Themis 85%, exit scam Open Platform 89%, exit scam The Sentinel Chain 91%, exit scam Merculet 87%, exit scam SimplyVitalHealth 82%, exit scam Nuggets 82%, exit scam SingularityNet 85%, exit scam Coinvest 95%, exit scam Experty 91%, exit scam Mobius 85%, exit scam Refereum 86%, exit scam Fortuna 89%, exit scam Coinfi 90%, exit scam STK token 100%, exit scam Bitmain IPO 92%, exit scam Airtoken 86%, is busy shilling a another one of those bullshit \"VIP\" signals groups which are priced at 800 dollars for the year. Despite him stating that they are a fully regulated and SEC licenced, they are in fact not, nor are they financial advisors of any sort. Just another no name signals group started from someone\\'s bedroom masquerading as a legit outfit.']\n"
          ],
          "name": "stdout"
        }
      ]
    },
    {
      "cell_type": "markdown",
      "metadata": {
        "id": "xwMdFOpdD3Ph"
      },
      "source": [
        "Sentiment Analysis - TEXTBLOB"
      ]
    },
    {
      "cell_type": "code",
      "metadata": {
        "id": "jovjUY9AJI5S",
        "colab": {
          "base_uri": "https://localhost:8080/"
        },
        "outputId": "3069d3c4-d05e-4eac-bee8-74ac176a0b20"
      },
      "source": [
        "!pip install polyglot"
      ],
      "execution_count": null,
      "outputs": [
        {
          "output_type": "stream",
          "text": [
            "Collecting polyglot\n",
            "\u001b[?25l  Downloading https://files.pythonhosted.org/packages/e7/98/e24e2489114c5112b083714277204d92d372f5bbe00d5507acf40370edb9/polyglot-16.7.4.tar.gz (126kB)\n",
            "\r\u001b[K     |██▋                             | 10kB 30.3MB/s eta 0:00:01\r\u001b[K     |█████▏                          | 20kB 29.2MB/s eta 0:00:01\r\u001b[K     |███████▉                        | 30kB 18.8MB/s eta 0:00:01\r\u001b[K     |██████████▍                     | 40kB 15.9MB/s eta 0:00:01\r\u001b[K     |█████████████                   | 51kB 10.4MB/s eta 0:00:01\r\u001b[K     |███████████████▋                | 61kB 10.0MB/s eta 0:00:01\r\u001b[K     |██████████████████▏             | 71kB 9.7MB/s eta 0:00:01\r\u001b[K     |████████████████████▊           | 81kB 10.6MB/s eta 0:00:01\r\u001b[K     |███████████████████████▍        | 92kB 10.7MB/s eta 0:00:01\r\u001b[K     |██████████████████████████      | 102kB 10.0MB/s eta 0:00:01\r\u001b[K     |████████████████████████████▌   | 112kB 10.0MB/s eta 0:00:01\r\u001b[K     |███████████████████████████████▏| 122kB 10.0MB/s eta 0:00:01\r\u001b[K     |████████████████████████████████| 133kB 10.0MB/s \n",
            "\u001b[?25hBuilding wheels for collected packages: polyglot\n",
            "  Building wheel for polyglot (setup.py) ... \u001b[?25l\u001b[?25hdone\n",
            "  Created wheel for polyglot: filename=polyglot-16.7.4-py2.py3-none-any.whl size=52559 sha256=84c7e269578a1f898923eea08dcbcc95b4d8480655272640d77ba5f0b514afa8\n",
            "  Stored in directory: /root/.cache/pip/wheels/5e/91/ef/f1369fdc1203b0a9347d4b24f149b83a305f39ab047986d9da\n",
            "Successfully built polyglot\n",
            "Installing collected packages: polyglot\n",
            "Successfully installed polyglot-16.7.4\n"
          ],
          "name": "stdout"
        }
      ]
    },
    {
      "cell_type": "code",
      "metadata": {
        "id": "vbsbXltQPaiJ",
        "colab": {
          "base_uri": "https://localhost:8080/"
        },
        "outputId": "988bf91d-12a2-45dc-abb3-b531eefa7a5b"
      },
      "source": [
        "!sudo apt-get install python-numpy libicu-dev"
      ],
      "execution_count": null,
      "outputs": [
        {
          "output_type": "stream",
          "text": [
            "Reading package lists... Done\n",
            "Building dependency tree       \n",
            "Reading state information... Done\n",
            "python-numpy is already the newest version (1:1.13.3-2ubuntu1).\n",
            "python-numpy set to manually installed.\n",
            "libicu-dev is already the newest version (60.2-3ubuntu3.1).\n",
            "0 upgraded, 0 newly installed, 0 to remove and 12 not upgraded.\n"
          ],
          "name": "stdout"
        }
      ]
    },
    {
      "cell_type": "code",
      "metadata": {
        "id": "sR-4tS1bR8ES",
        "colab": {
          "base_uri": "https://localhost:8080/"
        },
        "outputId": "d4fa037f-a960-4ac5-e055-a0dc49382a4e"
      },
      "source": [
        "!pip install icu"
      ],
      "execution_count": null,
      "outputs": [
        {
          "output_type": "stream",
          "text": [
            "Collecting icu\n",
            "\u001b[?25l  Downloading https://files.pythonhosted.org/packages/89/d8/0972fa39747faea092e8105103f261e01d6cefe262cbe036df8b0b8ada44/icu-0.0.1-py3-none-any.whl (49kB)\n",
            "\u001b[K     |████████████████████████████████| 51kB 5.2MB/s \n",
            "\u001b[?25hInstalling collected packages: icu\n",
            "Successfully installed icu-0.0.1\n"
          ],
          "name": "stdout"
        }
      ]
    },
    {
      "cell_type": "code",
      "metadata": {
        "id": "K7oRT3bgI-my"
      },
      "source": [
        "# from polyglot.detect import Detector\n",
        "# import icu\n",
        "# from icu import Locale\n",
        "# import pycld2 as cld2\n",
        "# df2['cleaned']=df2['cleaned'].astype(str).apply(lambda x:Detector(x).languages)\n",
        "# df2.head()"
      ],
      "execution_count": null,
      "outputs": []
    },
    {
      "cell_type": "code",
      "metadata": {
        "id": "MeK1aJa51stP"
      },
      "source": [
        "#Checking sentence polarity by each message\n",
        "from textblob import TextBlob\n",
        "df3['polarity_by_mesg']=df3['lemmatized_wo_emoji'].apply(lambda x:TextBlob(x).sentiment.polarity)"
      ],
      "execution_count": null,
      "outputs": []
    },
    {
      "cell_type": "code",
      "metadata": {
        "id": "_fypCrieCGgW",
        "colab": {
          "base_uri": "https://localhost:8080/",
          "height": 610
        },
        "outputId": "beb7a4e1-d8b8-49e5-82cf-d5f0623bf407"
      },
      "source": [
        "#Plotting sentiment histogram\n",
        "plt.figure(figsize=(50,30))\n",
        "plt.margins(0.02)\n",
        "plt.xlabel('sentiment', fontsize=50)\n",
        "plt.xticks(fontsize=40)\n",
        "plt.ylabel('Frequency', fontsize=50)\n",
        "plt.yticks(fontsize=40)\n",
        "plt.hist(df3['polarity_by_mesg'], bins=50)\n",
        "plt.title('Sentiment Distribution', fontsize=60)\n",
        "plt.show()"
      ],
      "execution_count": null,
      "outputs": [
        {
          "output_type": "display_data",
          "data": {
            "image/png": "[encoded data removed]",
            "text/plain": [
              "<Figure size 3600x2160 with 1 Axes>"
            ]
          },
          "metadata": {
            "tags": [],
            "needs_background": "light"
          }
        }
      ]
    },
    {
      "cell_type": "code",
      "metadata": {
        "id": "2sowrpp-B8-9"
      },
      "source": [
        "# #Grouping data by sender\n",
        "# df_grouped=df2[['from','lemmatized']].groupby(by='from').agg(lambda x:' '.join(x))\n",
        "# df_grouped.head()"
      ],
      "execution_count": null,
      "outputs": []
    },
    {
      "cell_type": "code",
      "metadata": {
        "id": "Mfjcvtc1JLaX"
      },
      "source": [
        "# #Checking sentence polarity by each sender\n",
        "# from textblob import TextBlob\n",
        "# df_grouped['polarity_by_sender']=df_grouped['lemmatized'].apply(lambda x:TextBlob(x).sentiment.polarity)\n",
        "# df_grouped.head()"
      ],
      "execution_count": null,
      "outputs": []
    },
    {
      "cell_type": "code",
      "metadata": {
        "id": "vT5mST6NPk1W",
        "colab": {
          "base_uri": "https://localhost:8080/"
        },
        "outputId": "6a8831d6-5cdc-40b1-ed03-44a6734d9280"
      },
      "source": [
        "#Checking random messages with highest polarity\n",
        "print(\"3 Random Messages with Highest Polarity:\")\n",
        "for index,review in enumerate(df3.loc[df3['polarity_by_mesg'].sort_values(ascending=False)[:3].index]['text']):\n",
        "  print('Message {}:\\n'.format(index+1),review)"
      ],
      "execution_count": null,
      "outputs": [
        {
          "output_type": "stream",
          "text": [
            "3 Random Messages with Highest Polarity:\n",
            "Message 1:\n",
            " Impressive\n",
            "Message 2:\n",
            " thanks! cryptodiffer da best!\n",
            "Message 3:\n",
            " Awesome. Thanks.\n"
          ],
          "name": "stdout"
        }
      ]
    },
    {
      "cell_type": "code",
      "metadata": {
        "id": "TbjLYPe8QP2H",
        "colab": {
          "base_uri": "https://localhost:8080/"
        },
        "outputId": "bc25a6de-f894-4144-e54a-d26f54e8bda6"
      },
      "source": [
        "#Checking random messages with lowest polarity\n",
        "print(\"3 Random Reviews with Lowest Polarity:\")\n",
        "for index,review in enumerate(df3.loc[df3['polarity_by_mesg'].sort_values(ascending=True)[:3].index]['text']):\n",
        "  print('Message {}:\\n'.format(index+1),review)"
      ],
      "execution_count": null,
      "outputs": [
        {
          "output_type": "stream",
          "text": [
            "3 Random Reviews with Lowest Polarity:\n",
            "Message 1:\n",
            " But when imbecilles like many VCs pretend to understand product/development - and preach about some stuff - then ye that's v disgusting\n",
            "Message 2:\n",
            " EtherDelta had terrible UX. But had value in ROI. ROI then disappeared. A bunch of good UX things emerged. Still, no outcome.\n",
            "Message 3:\n",
            " There is only two existing implementations; \n",
            "\n",
            "Euro Statis - Don't trust it due to it's horrible attempt at liquidity and market making (listed on HitBTC and other uncredible/shady exchanges) \n",
            "\n",
            "UPEUR - Only around 2 months and it seems only 8 holders on Etherscan, it is supported by UpHold and Bittrex, still not keen.\n"
          ],
          "name": "stdout"
        }
      ]
    },
    {
      "cell_type": "code",
      "metadata": {
        "id": "JO7umtaxADxm"
      },
      "source": [
        "# #Removing rare words\n",
        "# rare_words = list(rare_words.index)\n",
        "# df2['lemmatized'] = df2['lemmatized'].apply(lambda x: \" \".join(x for x in x.split() if x not in rare_words))\n",
        "# df2['lemmatized'].head()"
      ],
      "execution_count": null,
      "outputs": []
    },
    {
      "cell_type": "code",
      "metadata": {
        "id": "aLnJyyXc7GMW"
      },
      "source": [
        "#Checking sentence polarity by each sender\n",
        "from textblob import TextBlob\n",
        "df_by_mnth=df3.groupby('mnth_yr')['polarity_by_mesg'].mean()\n",
        "df_by_mnth.to_csv(\"sentiment_by_month.csv\")"
      ],
      "execution_count": null,
      "outputs": []
    },
    {
      "cell_type": "code",
      "metadata": {
        "id": "tq6bty_P-JIt"
      },
      "source": [
        "#Checking sentence polarity by each sender\n",
        "from textblob import TextBlob\n",
        "df_by_quarter=df3.groupby('period')['polarity_by_mesg'].mean()\n",
        "df_by_quarter.to_csv(\"sentiment_by_quarter.csv\")"
      ],
      "execution_count": null,
      "outputs": []
    },
    {
      "cell_type": "code",
      "metadata": {
        "id": "pBC-eQ31-qWr"
      },
      "source": [
        "#Checking sentence polarity by each sender\n",
        "from textblob import TextBlob\n",
        "df_by_sender=df3.groupby('from')['polarity_by_mesg'].mean()\n",
        "df_by_sender.to_csv(\"sentiment_by_sender.csv\")"
      ],
      "execution_count": null,
      "outputs": []
    },
    {
      "cell_type": "markdown",
      "metadata": {
        "id": "yxDL-u1cJH0i"
      },
      "source": [
        "Frequencies"
      ]
    },
    {
      "cell_type": "code",
      "metadata": {
        "id": "Bx19X4oWJI_X"
      },
      "source": [
        "# #Term Freuqencies \n",
        "# from sklearn.feature_extraction.text import CountVectorizer \n",
        "# word_vectorizer = CountVectorizer(ngram_range=(1,1), \n",
        "#                                   analyzer='word', \n",
        "#                                   stop_words='english')\n",
        "# sparse_matrix = word_vectorizer.fit_transform(df3['lemmatized_wo_emoji'])\n",
        "# w_freq = sum(sparse_matrix).toarray()[0]\n",
        "# w_df=pd.DataFrame(w_freq, \n",
        "#                   index=word_vectorizer.get_feature_names(), \n",
        "#                   columns=['tf']).reset_index()\n",
        "# w_df.columns=['words','tf']\n",
        "# w_df.sort_values('tf',ascending=False)\n",
        "# w_df.to_csv(\"tf.csv\",index=False)"
      ],
      "execution_count": null,
      "outputs": []
    },
    {
      "cell_type": "code",
      "metadata": {
        "id": "i1l8B-QXJ0HG"
      },
      "source": [
        "# #Term frequencies inverse document frequencies\n",
        "# from sklearn.feature_extraction.text import TfidfVectorizer\n",
        "# word_vectorizer = TfidfVectorizer(ngram_range=(1,1), \n",
        "#                                   analyzer='word', \n",
        "#                                   stop_words='english')\n",
        "# sparse_matrix = word_vectorizer.fit_transform(df3['lemmatized_wo_emoji'])\n",
        "# w_freq = sum(sparse_matrix).toarray()[0]\n",
        "# w_df=pd.DataFrame(w_freq, \n",
        "#                   index=word_vectorizer.get_feature_names(), \n",
        "#                   columns=['tfidf']).reset_index()\n",
        "# w_df.columns=['words','tfidf']            \n",
        "# w_df.sort_values('tfidf',ascending=False)\n",
        "# w_df.to_csv(\"tfidf.csv\",index=False)"
      ],
      "execution_count": null,
      "outputs": []
    },
    {
      "cell_type": "code",
      "metadata": {
        "id": "EvcwMqqKssu4"
      },
      "source": [
        "#df3.to_csv(\"sentiment_telegram.csv\")"
      ],
      "execution_count": null,
      "outputs": []
    },
    {
      "cell_type": "code",
      "metadata": {
        "id": "sUEPHIKJOToG"
      },
      "source": [
        "df4=df3[df3['compound']!=0]"
      ],
      "execution_count": null,
      "outputs": []
    },
    {
      "cell_type": "code",
      "metadata": {
        "id": "zgOt5s1rO2VO"
      },
      "source": [
        "df4.to_csv('sentiment_telegram_non_neutral.csv',index=False)"
      ],
      "execution_count": null,
      "outputs": []
    }
  ]
}